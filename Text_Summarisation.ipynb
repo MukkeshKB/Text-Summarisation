{
  "nbformat": 4,
  "nbformat_minor": 0,
  "metadata": {
    "colab": {
      "provenance": []
    },
    "kernelspec": {
      "name": "python3",
      "display_name": "Python 3"
    },
    "language_info": {
      "name": "python"
    }
  },
  "cells": [
    {
      "cell_type": "code",
      "source": [
        "!pip install rouge-score"
      ],
      "metadata": {
        "colab": {
          "base_uri": "https://localhost:8080/"
        },
        "id": "pogB6AtZWaQk",
        "outputId": "79781ccc-925e-48b7-cdfe-e0e1faa027dd"
      },
      "execution_count": 1,
      "outputs": [
        {
          "output_type": "stream",
          "name": "stdout",
          "text": [
            "Requirement already satisfied: rouge-score in /usr/local/lib/python3.11/dist-packages (0.1.2)\n",
            "Requirement already satisfied: absl-py in /usr/local/lib/python3.11/dist-packages (from rouge-score) (1.4.0)\n",
            "Requirement already satisfied: nltk in /usr/local/lib/python3.11/dist-packages (from rouge-score) (3.9.1)\n",
            "Requirement already satisfied: numpy in /usr/local/lib/python3.11/dist-packages (from rouge-score) (1.26.4)\n",
            "Requirement already satisfied: six>=1.14.0 in /usr/local/lib/python3.11/dist-packages (from rouge-score) (1.17.0)\n",
            "Requirement already satisfied: click in /usr/local/lib/python3.11/dist-packages (from nltk->rouge-score) (8.1.8)\n",
            "Requirement already satisfied: joblib in /usr/local/lib/python3.11/dist-packages (from nltk->rouge-score) (1.4.2)\n",
            "Requirement already satisfied: regex>=2021.8.3 in /usr/local/lib/python3.11/dist-packages (from nltk->rouge-score) (2024.11.6)\n",
            "Requirement already satisfied: tqdm in /usr/local/lib/python3.11/dist-packages (from nltk->rouge-score) (4.67.1)\n"
          ]
        }
      ]
    },
    {
      "cell_type": "code",
      "source": [
        "import requests\n",
        "from bs4 import BeautifulSoup\n",
        "from transformers import pipeline\n",
        "from rouge_score import rouge_scorer\n",
        "import numpy as np\n",
        "import nltk\n",
        "from sumy.parsers.plaintext import PlaintextParser\n",
        "from sumy.nlp.tokenizers import Tokenizer\n",
        "from sumy.summarizers.text_rank import TextRankSummarizer\n",
        "\n",
        "nltk.download('punkt_tab')"
      ],
      "metadata": {
        "colab": {
          "base_uri": "https://localhost:8080/"
        },
        "id": "BioDx2lNG31y",
        "outputId": "21644e14-9aed-46a3-8809-450d83f32318"
      },
      "execution_count": 2,
      "outputs": [
        {
          "output_type": "stream",
          "name": "stderr",
          "text": [
            "[nltk_data] Downloading package punkt_tab to /root/nltk_data...\n",
            "[nltk_data]   Package punkt_tab is already up-to-date!\n"
          ]
        },
        {
          "output_type": "execute_result",
          "data": {
            "text/plain": [
              "True"
            ]
          },
          "metadata": {},
          "execution_count": 2
        }
      ]
    },
    {
      "cell_type": "code",
      "source": [
        "# Step 1: Scraping text from a URL
        "def scrape_text(url):\n",
        "    response = requests.get(url)\n",
        "    if response.status_code != 200:\n",
        "        print(\"Failed to retrieve the webpage.\")\n",
        "        return None\n",
        "\n",
        "    soup = BeautifulSoup(response.text, \"html.parser\")\n",
        "    paragraphs = soup.find_all(\"p\")\n",
        "    text = \"\\n\".join([para.get_text() for para in paragraphs if para.get_text()])\n",
        "\n",
        "    sentences = nltk.sent_tokenize(text)\n",
        "    cleaned_text = \" \".join(sentences[:50])  # Limit length to avoid truncation\n",
        "\n",
        "    return cleaned_text\n",
        "\n",
        "# Step 2: Extractive Summarization using TextRank\n",
        "def summarize_text_textrank(text, num_sentences=5):\n",
        "    \"\"\"Summarizes text using TextRank.\"\"\"\n",
        "    parser = PlaintextParser.from_string(text, Tokenizer(\"english\"))\n",
        "    summarizer = TextRankSummarizer()\n",
        "    summary = summarizer(parser.document, num_sentences)\n",
        "    return \" \".join(str(sentence) for sentence in summary)\n",
        "\n",
        "# Step 3: Abstractive Summarization using BART\n",
        "def summarize_text_bart(text, max_length=200, min_length=80, num_beams=6):\n",
        "    \"\"\"Summarizes text using BART transformer model with improved chunking and decoding.\"\"\"\n",
        "    summarizer = pipeline(\"summarization\", model=\"facebook/bart-large-cnn\")\n",
        "\n",
        "    # Tokenize the text into sentences to avoid breaking context\n",
        "    sentences = nltk.sent_tokenize(text)\n",
        "    chunk_size = 1024  # BART max token limit\n",
        "    chunks, temp_chunk = [], \"\"\n",
        "\n",
        "    for sentence in sentences:\n",
        "        if len(temp_chunk) + len(sentence) < chunk_size:\n",
        "            temp_chunk += \" \" + sentence\n",
        "        else:\n",
        "            chunks.append(temp_chunk.strip())\n",
        "            temp_chunk = sentence\n",
        "    if temp_chunk:\n",
        "        chunks.append(temp_chunk.strip())\n",
        "\n",
        "    summary = []\n",
        "    for chunk in chunks:\n",
        "        summarized = summarizer(chunk, max_length=max_length, min_length=min_length,\n",
        "                                num_beams=num_beams, length_penalty=2.0, do_sample=False)\n",
        "        summary.append(summarized[0][\"summary_text\"])\n",
        "\n",
        "    return \" \".join(summary)\n",
        "\n",
        "# Step 4: Evaluation using ROUGE Metrics\n",
        "def evaluate_rouge(reference, generated):\n",
        "    \"\"\"Computes ROUGE scores.\"\"\"\n",
        "    scorer = rouge_scorer.RougeScorer(['rouge1', 'rouge2', 'rougeL'], use_stemmer=True)\n",
        "    scores = scorer.score(reference, generated)\n",
        "    return {key: scores[key].fmeasure for key in scores}\n",
        "\n",
        "\n",
        "if __name__ == \"__main__\":\n",
        "    url = input(\"Enter a URL to scrape: \")\n",
        "    text = scrape_text(url)\n",
        "\n",
        "    reference_summary = text\n",
        "    textrank_summary = summarize_text_textrank(text)\n",
        "    bart_summary = summarize_text_bart(text)\n",
        "\n",
        "    print(\"\\nTextRank Summary:\")\n",
        "    print(textrank_summary)\n",
        "    print(\"\\nBART Summary:\")\n",
        "    print(bart_summary)\n",
        "\n",
        "    print(\"ROUGE Scores:\")\n",
        "    print(\"TextRank:\", evaluate_rouge(reference_summary, textrank_summary))\n",
        "    print(\"BART:\", evaluate_rouge(reference_summary, bart_summary))\n"
      ],
      "metadata": {
        "colab": {
          "base_uri": "https://localhost:8080/"
        },
        "id": "dXILJKu1EQSC",
        "outputId": "9baea7a4-e975-47ec-e2ed-5271f176d921"
      },
      "execution_count": 4,
      "outputs": [
        {
          "name": "stdout",
          "output_type": "stream",
          "text": [
            "Enter a URL to scrape: https://medium.com/@ishaanmittal.iitd/razorpay-building-the-central-nervous-system-for-digital-india-994307065e8d\n"
          ]
        },
        {
          "output_type": "stream",
          "name": "stderr",
          "text": [
            "/usr/local/lib/python3.11/dist-packages/huggingface_hub/utils/_auth.py:94: UserWarning: \n",
            "The secret `HF_TOKEN` does not exist in your Colab secrets.\n",
            "To authenticate with the Hugging Face Hub, create a token in your settings tab (https://huggingface.co/settings/tokens), set it as secret in your Google Colab and restart your session.\n",
            "You will be able to reuse this secret in all of your notebooks.\n",
            "Please note that authentication is recommended but still optional to access public models or datasets.\n",
            "  warnings.warn(\n",
            "Device set to use cpu\n",
            "Your max_length is set to 200, but your input_length is only 172. Since this is a summarization task, where outputs shorter than the input are typically wanted, you might consider decreasing max_length manually, e.g. summarizer('...', max_length=86)\n",
            "Your max_length is set to 200, but your input_length is only 179. Since this is a summarization task, where outputs shorter than the input are typically wanted, you might consider decreasing max_length manually, e.g. summarizer('...', max_length=89)\n",
            "Your max_length is set to 200, but your input_length is only 180. Since this is a summarization task, where outputs shorter than the input are typically wanted, you might consider decreasing max_length manually, e.g. summarizer('...', max_length=90)\n",
            "Your max_length is set to 200, but your input_length is only 136. Since this is a summarization task, where outputs shorter than the input are typically wanted, you might consider decreasing max_length manually, e.g. summarizer('...', max_length=68)\n",
            "Your max_length is set to 200, but your input_length is only 178. Since this is a summarization task, where outputs shorter than the input are typically wanted, you might consider decreasing max_length manually, e.g. summarizer('...', max_length=89)\n",
            "Your max_length is set to 200, but your input_length is only 67. Since this is a summarization task, where outputs shorter than the input are typically wanted, you might consider decreasing max_length manually, e.g. summarizer('...', max_length=33)\n"
          ]
        },
        {
          "output_type": "stream",
          "name": "stdout",
          "text": [
            "\n",
            "TextRank Summary:\n",
            "It was very clear to us that they embodied all the qualities we admire and values that we live by — big ambition, long-term vision, patience, a maniacal focus on product and a deep desire to make the world a better place using technology. After close to a year, during which we met multiple times and introduced them to many Sequoia India portfolio companies, Sequoia Capital India had the privilege of partnering with the company in 2019. Innovation as a Culture Over the years, Harshil and Shashank have developed a deep connection and association with their customers, to the point where they think like them — and now, this ability is woven into the cultural fabric of the company. Harshil articulates Razorpay’s vision well: “Our purpose is to create products that help businesses track and move money.” With this goal, Razorpay has launched Razorpay X, a neo-banking platform that offers current accounts, vendor payout solutions and payroll software among other products, to enable businesses to manage their entire financial system through the Razorpay platform. For this reason, we believe that this is one of the most foundational companies that is being built in India today, and one of the pillars on which other entrepreneurs will build the digital future of India.\n",
            "\n",
            "BART Summary:\n",
            "Shashank Kumar and Harshil Mathur launched Razorpay in 2014 as a payment gateway built to meet the needs of millions of Indian merchants. Razorpay simplified digital payments for these merchants by embedding the full gamut of payment acceptance options. Like many other start-up stories, Razorpay wasn’t an overnight success. The team put in sweat and blood, spending countless nights and days to build, improve and perfect their product. Sequoia Capital India will partner with Razorpay in 2019. It was very clear to us that they embodied all the qualities we admire and values that we live by. There are many things they do exceptionally, but if I had to pick their superpower, it would be their innate understanding and deep empathy for their customers’ pain points, says Sequoia's Amit Agrawal. Harshil and Shashank have developed a deep connection and association with their customers, to the point where they think like them. Many employees who join the team spend time in the customer service functions to understand customer needs, which has helped nurture a bottom-up culture of innovation. Their consistent drive to solve a customer’s pain point has turned Razorpay into a product juggernaut constantly building cutting edge financial technology. Razorpay has focused on attracting the best talent, zeroing in on candidates with a learning mindset and nurturing them as long-term partners. The fact that they consistently do the right thing by their employees during every fundraising round — over 200 employees so far have monetized their stock options so far — is a testament to their ‘team first’ approach. At Sequoia Capital India, we dream of a future that is digital-first, digital-led and digitally native. A key ingredient of a successful digital economy is a frictionless, seamless and bi-directional flow of money and financial information. A trusted platform that powers payments and exchange of financial data between constituents creates a safe, conducive and secured sphere for digital commerce to flourish. Razorpay’s vision is to be a unified financial technology platform for millions of business. This platform will become the central nervous system of India's digital economy. Razorpay has launched Razorpay X, a neo-banking platform that offers current accounts, vendor payout solutions and payroll software. This, combined with a payment gateway suite and Razorpay Capital, will become the go-to destination for all financial needs for any business. The entire team at Sequoia Capital India is stoked to have partnered with Razorpay in their mission to revolutionize finance for online businesses. Sequoia India is excited to deepen it's partnership with Razorpay by leading the company’s Series D round. We are big believers in this vision and SequoiaIndia is excited about Razorpay's vision. Razorpay is a cloud-based payment system that allows users to send text messages to each other. The company is based in Bangalore, India and has raised $100 million in funding so far.\n",
            "ROUGE Scores:\n",
            "TextRank: {'rouge1': 0.38792314730100635, 'rouge2': 0.383134738771769, 'rougeL': 0.38792314730100635}\n",
            "BART: {'rouge1': 0.6871345029239767, 'rouge2': 0.6193265007320644, 'rougeL': 0.6257309941520467}\n"
          ]
        }
      ]
    }
  ]
}
